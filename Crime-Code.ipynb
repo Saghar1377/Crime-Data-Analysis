{
 "cells": [
  {
   "cell_type": "code",
   "execution_count": null,
   "id": "67021fbe",
   "metadata": {},
   "outputs": [],
   "source": [
    "###Fatemeh Karimnezhad"
   ]
  },
  {
   "cell_type": "code",
   "execution_count": null,
   "id": "6ce5ffde",
   "metadata": {},
   "outputs": [],
   "source": [
    "import pandas as pd\n",
    "import numpy as np\n",
    "#import matplotlib \n",
    "import matplotlib.pyplot as plt\n",
    "import seaborn as sns\n",
    "from scipy import stats\n",
    "import plotly.express as px\n",
    "import datetime as dt"
   ]
  },
  {
   "cell_type": "code",
   "execution_count": null,
   "id": "c2fb099b",
   "metadata": {},
   "outputs": [],
   "source": [
    "df1= pd.read_csv('Louisville_Metro_KY_-_Crime_Data_2019.csv')\n",
    "df2= pd.read_csv('Louisville_Metro_KY_-_Crime_Data_2020.csv')\n",
    "df3= pd.read_csv('CRIME_DATA_2021.csv')\n",
    "df4= pd.read_csv('Louisville_Metro_KY_-_Crime_Data_2022.csv')"
   ]
  },
  {
   "cell_type": "code",
   "execution_count": null,
   "id": "08c10328",
   "metadata": {},
   "outputs": [],
   "source": [
    "df=pd.concat([df1,df2,df3,df4] ,axis=0 )\n",
    "df"
   ]
  },
  {
   "cell_type": "code",
   "execution_count": null,
   "id": "66fe6582",
   "metadata": {},
   "outputs": [],
   "source": [
    "z=[]\n",
    "for i in range (len(df['City'])) :\n",
    "    z.append(i)\n",
    "z=pd.Series(z)\n",
    "df.index= z\n",
    "df"
   ]
  },
  {
   "cell_type": "code",
   "execution_count": null,
   "id": "7c0db74d",
   "metadata": {},
   "outputs": [],
   "source": [
    "df.isnull().sum()"
   ]
  },
  {
   "cell_type": "code",
   "execution_count": null,
   "id": "61fdad51",
   "metadata": {},
   "outputs": [],
   "source": [
    "df.info()"
   ]
  },
  {
   "cell_type": "code",
   "execution_count": null,
   "id": "8e6a1e3e",
   "metadata": {},
   "outputs": [],
   "source": [
    "###########filling null values\n",
    "\n",
    "df=df.drop(['ObjectId'],axis=1)\n",
    "\n",
    "values={'ATT_COMP': 'unknown','UCR_HIERARCHY': 'unknown'}\n",
    "df=df.fillna(value=values)\n",
    "\n",
    "df.isnull().sum()"
   ]
  },
  {
   "cell_type": "code",
   "execution_count": null,
   "id": "e1df5ae1",
   "metadata": {},
   "outputs": [],
   "source": [
    "df=df.dropna()\n",
    "\n",
    "df.isnull().sum()"
   ]
  },
  {
   "cell_type": "code",
   "execution_count": null,
   "id": "64c3a7d2",
   "metadata": {},
   "outputs": [],
   "source": [
    "df"
   ]
  },
  {
   "cell_type": "code",
   "execution_count": null,
   "id": "5a8b2cd5",
   "metadata": {},
   "outputs": [],
   "source": [
    "#df=df[df.duplicated(subset=['INCIDENT_NUMBER'])]\n",
    "#df.info()"
   ]
  },
  {
   "cell_type": "code",
   "execution_count": null,
   "id": "1972d7b4",
   "metadata": {},
   "outputs": [],
   "source": [
    "\n",
    "ax = sns.countplot(y=df[\"CRIME_TYPE\"])"
   ]
  },
  {
   "cell_type": "code",
   "execution_count": null,
   "id": "a11fd7bc",
   "metadata": {},
   "outputs": [],
   "source": [
    "\n",
    "f=pd.crosstab(df['CRIME_TYPE'],df['ZIP_CODE'])\n",
    "f"
   ]
  },
  {
   "cell_type": "code",
   "execution_count": null,
   "id": "f8ab7625",
   "metadata": {},
   "outputs": [],
   "source": [
    "f.sum(axis=1)"
   ]
  },
  {
   "cell_type": "code",
   "execution_count": null,
   "id": "c03b257b",
   "metadata": {},
   "outputs": [],
   "source": [
    "\n",
    "f.sum(axis=0).sort_values(ascending=False)[:20].plot.bar(color='g')"
   ]
  },
  {
   "cell_type": "code",
   "execution_count": null,
   "id": "14753e56",
   "metadata": {},
   "outputs": [],
   "source": [
    "df"
   ]
  },
  {
   "cell_type": "code",
   "execution_count": null,
   "id": "ac267447",
   "metadata": {},
   "outputs": [],
   "source": [
    "df['DATE_OCCURED'] = pd.to_datetime(df['DATE_OCCURED'])"
   ]
  },
  {
   "cell_type": "code",
   "execution_count": null,
   "id": "87506713",
   "metadata": {},
   "outputs": [],
   "source": [
    "df['DATE_REPORTED'] = pd.to_datetime(df['DATE_REPORTED'])"
   ]
  },
  {
   "cell_type": "code",
   "execution_count": null,
   "id": "b8cace27",
   "metadata": {
    "scrolled": true
   },
   "outputs": [],
   "source": [
    "df['month'] = df['DATE_REPORTED'].apply(lambda x: x.strftime('%Y-%m-%d'))"
   ]
  },
  {
   "cell_type": "code",
   "execution_count": null,
   "id": "ebc2d351",
   "metadata": {},
   "outputs": [],
   "source": [
    "df['month'] = df['month'].str[0:7]"
   ]
  },
  {
   "cell_type": "code",
   "execution_count": null,
   "id": "782bcc85",
   "metadata": {},
   "outputs": [],
   "source": [
    "df"
   ]
  },
  {
   "cell_type": "code",
   "execution_count": null,
   "id": "36dc636e",
   "metadata": {},
   "outputs": [],
   "source": [
    "t= pd.crosstab(df['month'],df['CRIME_TYPE'])"
   ]
  },
  {
   "cell_type": "code",
   "execution_count": null,
   "id": "cab185b0",
   "metadata": {
    "scrolled": true
   },
   "outputs": [],
   "source": [
    "t"
   ]
  },
  {
   "cell_type": "code",
   "execution_count": null,
   "id": "b16ea7c7",
   "metadata": {},
   "outputs": [],
   "source": [
    "t.plot()\n",
    "plt.show()"
   ]
  },
  {
   "cell_type": "code",
   "execution_count": null,
   "id": "ef74447a",
   "metadata": {},
   "outputs": [],
   "source": [
    "df['take-to-reported'] = df['DATE_REPORTED'] - df['DATE_OCCURED']"
   ]
  },
  {
   "cell_type": "code",
   "execution_count": null,
   "id": "fd629d61",
   "metadata": {},
   "outputs": [],
   "source": [
    "df"
   ]
  },
  {
   "cell_type": "code",
   "execution_count": null,
   "id": "4233e03e",
   "metadata": {},
   "outputs": [],
   "source": [
    "taketoreport = df['take-to-reported'].sort_values(ascending=False)[:5000]\n",
    "taketoreport"
   ]
  },
  {
   "cell_type": "code",
   "execution_count": null,
   "id": "5a984282",
   "metadata": {},
   "outputs": [],
   "source": [
    "theindex=taketoreport.index\n",
    "theindex"
   ]
  },
  {
   "cell_type": "code",
   "execution_count": null,
   "id": "c283fdb5",
   "metadata": {},
   "outputs": [],
   "source": [
    "s=[]\n",
    "for i in theindex:\n",
    "    s.append(df['CRIME_TYPE'][i])\n",
    "    \n",
    "s"
   ]
  },
  {
   "cell_type": "code",
   "execution_count": null,
   "id": "e576efe3",
   "metadata": {},
   "outputs": [],
   "source": [
    "ax = sns.countplot(y= s )"
   ]
  },
  {
   "cell_type": "code",
   "execution_count": null,
   "id": "4b08aad9",
   "metadata": {},
   "outputs": [],
   "source": [
    "df['month2'] = df['month'].str[5:7]"
   ]
  },
  {
   "cell_type": "code",
   "execution_count": null,
   "id": "5b8e1b77",
   "metadata": {},
   "outputs": [],
   "source": [
    "t2= pd.crosstab(df['month2'],df['CRIME_TYPE'])\n",
    "t2"
   ]
  },
  {
   "cell_type": "code",
   "execution_count": null,
   "id": "d45c4ce3",
   "metadata": {},
   "outputs": [],
   "source": [
    "t2.plot()"
   ]
  },
  {
   "cell_type": "code",
   "execution_count": null,
   "id": "fb848ea4",
   "metadata": {},
   "outputs": [],
   "source": [
    "t2.plot.bar()"
   ]
  },
  {
   "cell_type": "code",
   "execution_count": null,
   "id": "35740414",
   "metadata": {},
   "outputs": [],
   "source": [
    "t3= pd.crosstab(df['LMPD_DIVISION'],df['CRIME_TYPE'])\n",
    "t3"
   ]
  },
  {
   "cell_type": "code",
   "execution_count": null,
   "id": "ae4aac6b",
   "metadata": {},
   "outputs": [],
   "source": [
    "t3.plot.barh()"
   ]
  },
  {
   "cell_type": "code",
   "execution_count": null,
   "id": "12a1525d",
   "metadata": {},
   "outputs": [],
   "source": [
    "t3.plot()\n",
    "plt.show()"
   ]
  },
  {
   "cell_type": "code",
   "execution_count": null,
   "id": "b75dc0bb",
   "metadata": {},
   "outputs": [],
   "source": [
    "a=pd.crosstab(df['UOR_DESC'],df['CRIME_TYPE'], margins=False)\n",
    "b=pd.crosstab(df['LMPD_DIVISION'],df['CRIME_TYPE'], margins=False)\n",
    "c=pd.crosstab(df['PREMISE_TYPE'],df['CRIME_TYPE'], margins=False)\n",
    "d=pd.crosstab(df['ZIP_CODE'],df['CRIME_TYPE'], margins=False)"
   ]
  },
  {
   "cell_type": "code",
   "execution_count": null,
   "id": "2d09403c",
   "metadata": {},
   "outputs": [],
   "source": [
    "L=[a,b,c,d]\n",
    "for i in L:\n",
    "    c, p, dof, expected = stats.chi2_contingency(a)\n",
    "    if p >= 0.05:\n",
    "        print('independant')\n",
    "    else:\n",
    "        print('dependant')"
   ]
  },
  {
   "cell_type": "code",
   "execution_count": null,
   "id": "23f8609c",
   "metadata": {
    "scrolled": true
   },
   "outputs": [],
   "source": [
    "lmpd_premise= pd.crosstab(df['PREMISE_TYPE'],df['LMPD_DIVISION'], margins=False)\n",
    "lmpd_premise"
   ]
  },
  {
   "cell_type": "code",
   "execution_count": null,
   "id": "934c8474",
   "metadata": {},
   "outputs": [],
   "source": [
    "lmpd_premise.sort_values(by='4TH DIVISION',ascending=False)[:10].plot.barh()"
   ]
  },
  {
   "cell_type": "code",
   "execution_count": null,
   "id": "45e19258",
   "metadata": {},
   "outputs": [],
   "source": [
    "df"
   ]
  },
  {
   "cell_type": "code",
   "execution_count": null,
   "id": "7882ce0d",
   "metadata": {},
   "outputs": [],
   "source": [
    "x= lmpd_premise.sum(axis=1).sort_values(ascending=False)[:10]\n",
    "x"
   ]
  },
  {
   "cell_type": "code",
   "execution_count": null,
   "id": "25c7b7fa",
   "metadata": {},
   "outputs": [],
   "source": [
    "x.plot.barh()"
   ]
  },
  {
   "cell_type": "code",
   "execution_count": null,
   "id": "84d976e3",
   "metadata": {
    "scrolled": true
   },
   "outputs": [],
   "source": [
    "cp= pd.crosstab(df['PREMISE_TYPE'],df['CRIME_TYPE'])\n",
    "cp"
   ]
  },
  {
   "cell_type": "code",
   "execution_count": null,
   "id": "96bbe72c",
   "metadata": {
    "scrolled": true
   },
   "outputs": [],
   "source": [
    "cp.max()"
   ]
  },
  {
   "cell_type": "code",
   "execution_count": null,
   "id": "9a95e914",
   "metadata": {},
   "outputs": [],
   "source": []
  }
 ],
 "metadata": {
  "kernelspec": {
   "display_name": "Python 3 (ipykernel)",
   "language": "python",
   "name": "python3"
  },
  "language_info": {
   "codemirror_mode": {
    "name": "ipython",
    "version": 3
   },
   "file_extension": ".py",
   "mimetype": "text/x-python",
   "name": "python",
   "nbconvert_exporter": "python",
   "pygments_lexer": "ipython3",
   "version": "3.11.2"
  }
 },
 "nbformat": 4,
 "nbformat_minor": 5
}
